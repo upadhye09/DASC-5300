{
  "nbformat": 4,
  "nbformat_minor": 0,
  "metadata": {
    "colab": {
      "provenance": []
    },
    "kernelspec": {
      "name": "python3",
      "display_name": "Python 3"
    },
    "language_info": {
      "name": "python"
    }
  },
  "cells": [
    {
      "cell_type": "markdown",
      "source": [
        "Name: Neha Chintamani Upadhye\n",
        "Student ID: 1002232340"
      ],
      "metadata": {
        "id": "4t5O94jZWzRp"
      }
    },
    {
      "cell_type": "markdown",
      "source": [
        "You are provided a two-dimensional list of engagement data counts for some users, a one-dimensional list of those user names, and an integer threshold to determine the popular users. A user is popular if the total engagement count for that user is equal or more than the threshold. Your function should return a one-dimensional list of users who are popular"
      ],
      "metadata": {
        "id": "O7iF6CirXEzg"
      }
    },
    {
      "cell_type": "code",
      "execution_count": 2,
      "metadata": {
        "id": "Yo9Ba_3wj74y"
      },
      "outputs": [],
      "source": [
        "def filter_popular(reacts_2D, names, threshold):\n",
        "    popular_users = []                                                            #To store names of popular users\n",
        "\n",
        "    for i in range(len(reacts_2D)):                                               #Loop through each user's data in reacts_2D\n",
        "        engagement_total = 0                                                      #Calculate total engagement for each user manually\n",
        "\n",
        "        for engagement in reacts_2D[i]:                                           #Summing up the engagement counts for the current user\n",
        "            engagement_total += engagement\n",
        "\n",
        "        if engagement_total >= threshold:                                         #Check if engagement_total meets or exceeds the threshold\n",
        "            popular_users.append(names[i])                                        #Add the corresponding name if user is popular\n",
        "\n",
        "    return popular_users"
      ]
    },
    {
      "cell_type": "code",
      "source": [
        "#TEST CASE 1\n",
        "filter_popular([[4, 9, 6, 5], [1, 2, 3, 5, 8], [17, 2, 9]], [\"crazy_guy\", \"solid321\", \"amicoolyet\"], 22)"
      ],
      "metadata": {
        "colab": {
          "base_uri": "https://localhost:8080/"
        },
        "id": "XcwW8Aj6kUih",
        "outputId": "83c9999c-74d9-4d0e-d24a-672eaefbc8c5"
      },
      "execution_count": 3,
      "outputs": [
        {
          "output_type": "execute_result",
          "data": {
            "text/plain": [
              "['crazy_guy', 'amicoolyet']"
            ]
          },
          "metadata": {},
          "execution_count": 3
        }
      ]
    },
    {
      "cell_type": "code",
      "source": [
        "#TEST CASE 2\n",
        "filter_popular([[4, 9, 6, 5], [1, 2, 3, 5, 8], [17, 2, 9]], [\"crazy_guy\", \"solid321\", \"amicoolyet\"], 15)"
      ],
      "metadata": {
        "colab": {
          "base_uri": "https://localhost:8080/"
        },
        "id": "SWTJxd4AkdsD",
        "outputId": "42bb4414-f432-4378-c625-b0314c096ad9"
      },
      "execution_count": 4,
      "outputs": [
        {
          "output_type": "execute_result",
          "data": {
            "text/plain": [
              "['crazy_guy', 'solid321', 'amicoolyet']"
            ]
          },
          "metadata": {},
          "execution_count": 4
        }
      ]
    },
    {
      "cell_type": "code",
      "source": [
        "#TEST CASE 3\n",
        "filter_popular([[31], [22, 1, 1], [2, 2, 11, 65]], [\"alien\", \"tomato2\", \"simon23\"], 50)"
      ],
      "metadata": {
        "colab": {
          "base_uri": "https://localhost:8080/"
        },
        "id": "EL1J6M5ykkUj",
        "outputId": "b9d140ab-c93b-46ee-d527-4c9147206b2e"
      },
      "execution_count": 5,
      "outputs": [
        {
          "output_type": "execute_result",
          "data": {
            "text/plain": [
              "['simon23']"
            ]
          },
          "metadata": {},
          "execution_count": 5
        }
      ]
    },
    {
      "cell_type": "markdown",
      "source": [
        "You are provided a one-dimensional list of user names, a one-dimensional list of\n",
        "ungrouped engagement data counts for those users, and a one-dimensional list with information about how to group the engagement data counts by user. Your function should gather the engagement data counts for each user to create the groups and return a two-dimensional list that contains the groups"
      ],
      "metadata": {
        "id": "Eg47XNulZBmr"
      }
    },
    {
      "cell_type": "code",
      "source": [
        "def gather_engagement(names, reacts, grouping):\n",
        "    grouped_data = []                                                             #To store final 2D list of user engagement data\n",
        "    current_index = 0                                                             #Keeps track of the current position in reacts list\n",
        "\n",
        "    for i in range(len(names)):                                                   #Loop through each user in names and their corresponding group size in grouping\n",
        "        group_size = grouping[i]\n",
        "\n",
        "        user_data = [names[i]]                                                    #Start each user's list with their name\n",
        "\n",
        "        for j in range(group_size):                                               #If group_size is greater than 0, gather engagement data from reacts\n",
        "            user_data.append(reacts[current_index + j])\n",
        "\n",
        "        current_index += group_size                                               #Move to the next segment in the reacts list\n",
        "\n",
        "        grouped_data.append(user_data)                                            #Append the user's engagement data to grouped_data\n",
        "\n",
        "    return grouped_data"
      ],
      "metadata": {
        "id": "fJufspDilxg0"
      },
      "execution_count": 6,
      "outputs": []
    },
    {
      "cell_type": "code",
      "source": [
        "#TEST CASE 1\n",
        "gather_engagement([\"crazy_guy\", \"solid321\", \"amicoolyet\"],\n",
        "    [4, 9, 6, 5, 1, 2, 3, 5, 8, 17, 2, 9],\n",
        "    [4, 5, 3])"
      ],
      "metadata": {
        "colab": {
          "base_uri": "https://localhost:8080/"
        },
        "id": "f0HqhCpWl3-p",
        "outputId": "25571537-ab81-4310-e960-667950128e74"
      },
      "execution_count": 7,
      "outputs": [
        {
          "output_type": "execute_result",
          "data": {
            "text/plain": [
              "[['crazy_guy', 4, 9, 6, 5],\n",
              " ['solid321', 1, 2, 3, 5, 8],\n",
              " ['amicoolyet', 17, 2, 9]]"
            ]
          },
          "metadata": {},
          "execution_count": 7
        }
      ]
    },
    {
      "cell_type": "code",
      "source": [
        "#TEST CASE 2\n",
        "gather_engagement([\"crazy_guy\", \"solid321\", \"amicoolyet\"],\n",
        "    [4, 9, 6, 5, 1, 2, 3, 5, 8, 17, 2, 9],\n",
        "    [2, 1, 9])"
      ],
      "metadata": {
        "colab": {
          "base_uri": "https://localhost:8080/"
        },
        "id": "oHq1fBwymtkh",
        "outputId": "339a9784-a159-45db-f60c-364655448cee"
      },
      "execution_count": 8,
      "outputs": [
        {
          "output_type": "execute_result",
          "data": {
            "text/plain": [
              "[['crazy_guy', 4, 9],\n",
              " ['solid321', 6],\n",
              " ['amicoolyet', 5, 1, 2, 3, 5, 8, 17, 2, 9]]"
            ]
          },
          "metadata": {},
          "execution_count": 8
        }
      ]
    },
    {
      "cell_type": "code",
      "source": [
        "#TEST CASE 3\n",
        "gather_engagement([\"butter12\", \"helloworld\"],\n",
        "    [40, 3, 35, 7],\n",
        "    [0, 4])"
      ],
      "metadata": {
        "colab": {
          "base_uri": "https://localhost:8080/"
        },
        "id": "fbM1-qF4m_AP",
        "outputId": "92f311dc-5703-4c87-b0fe-9ec3c7067be1"
      },
      "execution_count": 9,
      "outputs": [
        {
          "output_type": "execute_result",
          "data": {
            "text/plain": [
              "[['butter12'], ['helloworld', 40, 3, 35, 7]]"
            ]
          },
          "metadata": {},
          "execution_count": 9
        }
      ]
    },
    {
      "cell_type": "markdown",
      "source": [
        "You are provided a two-dimensional list of engagement data counts for some users and your job is to clean this data by getting rid of all zeros. After removing the zeros, if an item becomes an empty list, your function should remove that item as well. The non-zero values in the item should remain in the same order"
      ],
      "metadata": {
        "id": "g6-xUG6IbX5A"
      }
    },
    {
      "cell_type": "code",
      "source": [
        "def clear_zeros(reacts_2D):\n",
        "    cleaned_data = []                                                             #To store cleaned lists without zeros and empty lists\n",
        "\n",
        "    for user_data in reacts_2D:                                                   #Loop through each user's engagement data in reacts_2D\n",
        "        non_zero_data = []                                                        #Temporary list to store non-zero values\n",
        "\n",
        "        #Collect only non-zero values\n",
        "        for count in user_data:\n",
        "            if count != 0:\n",
        "                non_zero_data.append(count)\n",
        "\n",
        "        #Now we append non-zero list to cleaned_data if it's not empty\n",
        "        if non_zero_data:\n",
        "            cleaned_data.append(non_zero_data)\n",
        "\n",
        "    return cleaned_data"
      ],
      "metadata": {
        "id": "8dlVff2DvmfU"
      },
      "execution_count": 10,
      "outputs": []
    },
    {
      "cell_type": "code",
      "source": [
        "#TEST CASE1\n",
        "user_reacts = [[4, 9, 0, 0], [1, 2, 0, 5, 8], [17, 2, 0]]\n",
        "clear_zeros(user_reacts)  # Returns [[4, 9], [1, 2, 5, 8], [17, 2]]"
      ],
      "metadata": {
        "colab": {
          "base_uri": "https://localhost:8080/"
        },
        "id": "W7V0GFaivtyV",
        "outputId": "30648d2a-5b74-46da-bc6d-2965676151ba"
      },
      "execution_count": 11,
      "outputs": [
        {
          "output_type": "execute_result",
          "data": {
            "text/plain": [
              "[[4, 9], [1, 2, 5, 8], [17, 2]]"
            ]
          },
          "metadata": {},
          "execution_count": 11
        }
      ]
    },
    {
      "cell_type": "code",
      "source": [
        "#TEST CASE 2\n",
        "user_reacts = [[1, 2, 0], [0, 0, 0], [17, 2, 4, 0]]\n",
        "clear_zeros(user_reacts)"
      ],
      "metadata": {
        "colab": {
          "base_uri": "https://localhost:8080/"
        },
        "id": "lcrJgCVJwyKn",
        "outputId": "edbaf439-15c5-4799-da0f-6ad5793aca28"
      },
      "execution_count": 12,
      "outputs": [
        {
          "output_type": "execute_result",
          "data": {
            "text/plain": [
              "[[1, 2], [17, 2, 4]]"
            ]
          },
          "metadata": {},
          "execution_count": 12
        }
      ]
    },
    {
      "cell_type": "code",
      "source": [
        "#TEST CASE 3\n",
        "user_reacts = [[40, 3], [35, 7]]\n",
        "clear_zeros(user_reacts)"
      ],
      "metadata": {
        "colab": {
          "base_uri": "https://localhost:8080/"
        },
        "id": "79M4-d53w32N",
        "outputId": "1514b0a4-afe2-4e80-daf6-6ef3271ce065"
      },
      "execution_count": 13,
      "outputs": [
        {
          "output_type": "execute_result",
          "data": {
            "text/plain": [
              "[[40, 3], [35, 7]]"
            ]
          },
          "metadata": {},
          "execution_count": 13
        }
      ]
    },
    {
      "cell_type": "markdown",
      "source": [
        "You are provided two dictionaries that contain user reactions (like, comment, share, etc.) as keys and the count of such reactions as values for a post. You need to combine these dictionaries to return a two-dimensional list that contains every reaction from the dictionaries exactly once and their\n",
        "counts. If a reaction appears in both dictionaries, the returned list should have the total count for that reaction.\n"
      ],
      "metadata": {
        "id": "afzCuPWxbq-j"
      }
    },
    {
      "cell_type": "code",
      "source": [
        "def form_reactions_list(react_dict1, react_dict2):\n",
        "    combined_reacts = {}                                                          #Dictionary to store total counts of each reaction\n",
        "\n",
        "    #Add reactions from react_dict1\n",
        "    for reaction, count in react_dict1.items():\n",
        "        combined_reacts[reaction] = count\n",
        "\n",
        "    #Add reactions from react_dict2\n",
        "    for reaction, count in react_dict2.items():\n",
        "        if reaction in combined_reacts:\n",
        "            combined_reacts[reaction] += count                                    #Add to existing count\n",
        "        else:\n",
        "            combined_reacts[reaction] = count                                     #Initialize new reaction\n",
        "\n",
        "    # Now we convert the combined dictionary to a 2D list\n",
        "    result = []\n",
        "    for reaction, count in combined_reacts.items():\n",
        "        result.append([reaction, count])\n",
        "\n",
        "    return result"
      ],
      "metadata": {
        "id": "TbXggsSVxA-_"
      },
      "execution_count": 14,
      "outputs": []
    },
    {
      "cell_type": "code",
      "source": [
        "#TEST CASE 1\n",
        "react1 = {\"like\": 5, \"comment\": 10, \"share\": 3}\n",
        "react2 = {\"love\": 10, \"like\": 5, \"wow\": 2}\n",
        "form_reactions_list(react1, react2)"
      ],
      "metadata": {
        "colab": {
          "base_uri": "https://localhost:8080/"
        },
        "id": "9dY1yshE1LWX",
        "outputId": "c5008960-7780-4a4c-8fd9-9bed839b33d6"
      },
      "execution_count": 15,
      "outputs": [
        {
          "output_type": "execute_result",
          "data": {
            "text/plain": [
              "[['like', 10], ['comment', 10], ['share', 3], ['love', 10], ['wow', 2]]"
            ]
          },
          "metadata": {},
          "execution_count": 15
        }
      ]
    },
    {
      "cell_type": "code",
      "source": [
        "#TEST CASE 2\n",
        "react1 = {\"wow\" : 34, \"angry\" : 9, \"comment\" : 1, \"sad\" : 42}\n",
        "react2 = {\"wow\" : 34, \"angry\" : 9, \"comment\" : 1, \"sad\" : 42}\n",
        "form_reactions_list(react1, react2)"
      ],
      "metadata": {
        "colab": {
          "base_uri": "https://localhost:8080/"
        },
        "id": "VEPbzv8_bHBi",
        "outputId": "3b28666e-b3b5-43f1-905d-d28583a3bbca"
      },
      "execution_count": 16,
      "outputs": [
        {
          "output_type": "execute_result",
          "data": {
            "text/plain": [
              "[['wow', 68], ['angry', 18], ['comment', 2], ['sad', 84]]"
            ]
          },
          "metadata": {},
          "execution_count": 16
        }
      ]
    },
    {
      "cell_type": "code",
      "source": [
        "#TEST CASE 3\n",
        "react1 = {\"angry\" : 54, \"love\" : 11}\n",
        "react2 = {\"share\" : 21}\n",
        "form_reactions_list(react1, react2)"
      ],
      "metadata": {
        "colab": {
          "base_uri": "https://localhost:8080/"
        },
        "id": "zrEE6LHMdx4M",
        "outputId": "16a86f3f-1cff-4b22-a527-ac9580efc14f"
      },
      "execution_count": 17,
      "outputs": [
        {
          "output_type": "execute_result",
          "data": {
            "text/plain": [
              "[['angry', 54], ['love', 11], ['share', 21]]"
            ]
          },
          "metadata": {},
          "execution_count": 17
        }
      ]
    },
    {
      "cell_type": "markdown",
      "source": [
        "You are provided a two-dimensional list that contains user reactions (like, comment, share, etc.) and their counts for a post in the same format as the\n",
        "last function’s (form_reactions_list) returned list. You need to organize this\n",
        "information in a dictionary that contains the reactions from the list as keys and their counts as values. Your returned dictionary should have an additional item at the end with the string key \"total\" and an integer value that represents the total count for all the reactions."
      ],
      "metadata": {
        "id": "enZ1J4WPb_UH"
      }
    },
    {
      "cell_type": "code",
      "source": [
        "def form_reactions_dict(reacts_2D):\n",
        "    reactions_dict = {}                                                           # Dictionary to store reactions and their counts\n",
        "    total_count = 0                                                               # Variable to store the total of all counts\n",
        "\n",
        "    # Loop through each reaction entry in reacts_2D\n",
        "    for reaction, count in reacts_2D:\n",
        "        reactions_dict[reaction] = count                                          # Add reaction and count to the dictionary\n",
        "        total_count += count                                                      # Add count to the total count\n",
        "\n",
        "    # Add the total count as an entry with key \"total\"\n",
        "    reactions_dict[\"total\"] = total_count\n",
        "\n",
        "    return reactions_dict"
      ],
      "metadata": {
        "id": "Z9t-ppZAdzrW"
      },
      "execution_count": 18,
      "outputs": []
    },
    {
      "cell_type": "code",
      "source": [
        "#TEST CASE 1\n",
        "form_reactions_dict([['like', 10], ['comment', 10], ['share', 3], ['love', 10], ['wow', 2]])"
      ],
      "metadata": {
        "colab": {
          "base_uri": "https://localhost:8080/"
        },
        "id": "YMuKrKZ7fSmZ",
        "outputId": "9ec20440-f73f-487a-894c-336587165a9f"
      },
      "execution_count": 19,
      "outputs": [
        {
          "output_type": "execute_result",
          "data": {
            "text/plain": [
              "{'like': 10, 'comment': 10, 'share': 3, 'love': 10, 'wow': 2, 'total': 35}"
            ]
          },
          "metadata": {},
          "execution_count": 19
        }
      ]
    },
    {
      "cell_type": "code",
      "source": [
        "#TEST CASE 2\n",
        "form_reactions_dict([['comment', 21], ['share', 26], ['love', 10], ['like', 5], ['wow', 2]])"
      ],
      "metadata": {
        "colab": {
          "base_uri": "https://localhost:8080/"
        },
        "id": "eGMtaobDfcEm",
        "outputId": "98f1726d-f74c-40a0-d389-a4ce1091fefe"
      },
      "execution_count": 20,
      "outputs": [
        {
          "output_type": "execute_result",
          "data": {
            "text/plain": [
              "{'comment': 21, 'share': 26, 'love': 10, 'like': 5, 'wow': 2, 'total': 64}"
            ]
          },
          "metadata": {},
          "execution_count": 20
        }
      ]
    },
    {
      "cell_type": "code",
      "source": [
        "#TEST CASE 3\n",
        "form_reactions_dict([['wow', 34], ['angry', 9], ['comment', 1], ['sad', 43], ['haha', 11], ['love', 2]])"
      ],
      "metadata": {
        "colab": {
          "base_uri": "https://localhost:8080/"
        },
        "id": "-WtjzLWAfjRW",
        "outputId": "63fdbcf7-9d8b-4a23-e919-3cd9c65dc2c2"
      },
      "execution_count": 21,
      "outputs": [
        {
          "output_type": "execute_result",
          "data": {
            "text/plain": [
              "{'wow': 34,\n",
              " 'angry': 9,\n",
              " 'comment': 1,\n",
              " 'sad': 43,\n",
              " 'haha': 11,\n",
              " 'love': 2,\n",
              " 'total': 100}"
            ]
          },
          "metadata": {},
          "execution_count": 21
        }
      ]
    }
  ]
}