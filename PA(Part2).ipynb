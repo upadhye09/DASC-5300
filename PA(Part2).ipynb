{
  "nbformat": 4,
  "nbformat_minor": 0,
  "metadata": {
    "colab": {
      "provenance": []
    },
    "kernelspec": {
      "name": "python3",
      "display_name": "Python 3"
    },
    "language_info": {
      "name": "python"
    }
  },
  "cells": [
    {
      "cell_type": "markdown",
      "source": [
        "**Name**: Neha Chintamani Upadhye **Student ID**: 1002232340"
      ],
      "metadata": {
        "id": "I_EnGSRV8TwG"
      }
    },
    {
      "cell_type": "markdown",
      "source": [
        "PART 2"
      ],
      "metadata": {
        "id": "4wl1pT2V7e6v"
      }
    },
    {
      "cell_type": "code",
      "source": [
        "#Creating Parent Class for Animals\n",
        "class Animal:\n",
        "    def __init__(self, hands, legs, name):\n",
        "        self.hands = hands\n",
        "        self.legs = legs\n",
        "        self.name = name\n",
        "\n",
        "    def get_characteristics(self):\n",
        "        return [self.name, self.hands, self.legs, \"N/A\", \"N/A\"]"
      ],
      "metadata": {
        "id": "3aDmHO0V5u73"
      },
      "execution_count": 18,
      "outputs": []
    },
    {
      "cell_type": "code",
      "source": [
        "#Feline class inherits from Animal\n",
        "class Feline(Animal):\n",
        "    def __init__(self, name):\n",
        "        super().__init__(hands=0, legs=4, name=name)\n",
        "        self.family = \"Cat Family\"\n",
        "\n",
        "    def get_characteristics(self):\n",
        "        base_char = super().get_characteristics()\n",
        "        base_char[3] = self.family\n",
        "        return base_char"
      ],
      "metadata": {
        "id": "1Lmu8pWq5wHJ"
      },
      "execution_count": 19,
      "outputs": []
    },
    {
      "cell_type": "code",
      "source": [
        "#Tiger class inherits from Feline\n",
        "class Tiger(Feline):\n",
        "    def __init__(self):\n",
        "        super().__init__(name=\"Bengal Tiger\")\n",
        "        self.can_roar = True\n",
        "        self.is_lethal = True\n",
        "\n",
        "    def get_characteristics(self):\n",
        "        base_char = super().get_characteristics()\n",
        "        base_char[4] = f\"Roar: {self.can_roar}, Lethal: {self.is_lethal}\"\n",
        "        return base_char"
      ],
      "metadata": {
        "id": "gbnn_REQ5zTl"
      },
      "execution_count": 20,
      "outputs": []
    },
    {
      "cell_type": "code",
      "source": [
        "#Wolf class inherits from Animal\n",
        "class Wolf(Animal):\n",
        "    def __init__(self):\n",
        "        super().__init__(hands=0, legs=4, name=\"Wolf\")\n",
        "        self.hunts_in_pack = True\n",
        "        self.has_leader = True\n",
        "\n",
        "    def get_characteristics(self):\n",
        "        base_char = super().get_characteristics()\n",
        "        base_char[3] = \"Dog Family\"\n",
        "        base_char[4] = f\"Pack: {self.hunts_in_pack}, Leader: {self.has_leader}\"\n",
        "        return base_char"
      ],
      "metadata": {
        "id": "G6vy3ZoQ52uA"
      },
      "execution_count": 21,
      "outputs": []
    },
    {
      "cell_type": "code",
      "source": [
        "#Bird class\n",
        "class Bird:\n",
        "    def __init__(self, legs, wings, name):\n",
        "        self.legs = legs\n",
        "        self.wings = wings\n",
        "        self.name = name\n",
        "\n",
        "    def get_characteristics(self):\n",
        "        return [self.name, self.legs, self.wings, \"N/A\", \"N/A\"]"
      ],
      "metadata": {
        "id": "p6UGIZd556D1"
      },
      "execution_count": 22,
      "outputs": []
    },
    {
      "cell_type": "code",
      "source": [
        "#Eagle class inherits from Bird\n",
        "class Eagle(Bird):\n",
        "    def __init__(self):\n",
        "        super().__init__(legs=2, wings=2, name=\"Eagle\")\n",
        "        self.can_fly_high = True\n",
        "        self.has_sharp_vision = True\n",
        "\n",
        "    def get_characteristics(self):\n",
        "        base_char = super().get_characteristics()\n",
        "        base_char[3] = f\"Fly High: {self.can_fly_high}\"\n",
        "        base_char[4] = f\"Sharp Vision: {self.has_sharp_vision}\"\n",
        "        return base_char"
      ],
      "metadata": {
        "id": "MOmvd11p59Au"
      },
      "execution_count": 23,
      "outputs": []
    },
    {
      "cell_type": "code",
      "source": [
        "#Zoo class to store animals and birds\n",
        "class Zoo:\n",
        "    def __init__(self):\n",
        "        self.animals = []  # Fixed to 2 animals\n",
        "        self.birds = []  # Fixed to 1 bird"
      ],
      "metadata": {
        "id": "siu-MaIR6gR_"
      },
      "execution_count": 24,
      "outputs": []
    },
    {
      "cell_type": "code",
      "execution_count": 25,
      "metadata": {
        "id": "MARnXE-24DGg"
      },
      "outputs": [],
      "source": [
        "import re\n",
        "from functools import reduce\n",
        "\n",
        "#Reuse the classes from Part 1\n",
        "class ZooPart2(Zoo):                                                              #Extends Zoo from part 1\n",
        "    def __init__(self):\n",
        "        super().__init__()\n",
        "\n",
        "    #Modifying add_animal and add_bird to allow only one instance per species\n",
        "    def add_animal(self, animal):\n",
        "        if any(isinstance(a, type(animal)) for a in self.animals):\n",
        "            print(f\"Animal {animal.name} already added!\")\n",
        "        else:\n",
        "            self.animals.append(animal)\n",
        "            print(f\"Added {animal.name} to the zoo.\")\n",
        "\n",
        "    def add_bird(self, bird):\n",
        "        if any(isinstance(b, type(bird)) for b in self.birds):\n",
        "            print(f\"Bird {bird.name} already added!\")\n",
        "        else:\n",
        "            self.birds.append(bird)\n",
        "            print(f\"Added {bird.name} to the zoo.\")\n",
        "\n",
        "    #Using map and reduce to create a single string representing the zoo\n",
        "    def zoo_summary(self):\n",
        "        animals_list = map(lambda a: f\"{a.name} ({a.__class__.__name__})\", self.animals)\n",
        "        birds_list = map(lambda b: f\"{b.name} ({b.__class__.__name__})\", self.birds)\n",
        "\n",
        "        all_animals = list(animals_list) + list(birds_list)\n",
        "        return reduce(lambda acc, elem: acc + \", \" + elem, all_animals, \"Zoo contains: \")\n",
        "\n",
        "    #Filtering all canines in the zoo\n",
        "    def get_canines(self):\n",
        "        canines = filter(lambda a: isinstance(a, (Wolf)), self.animals)\n",
        "        return list(canines)\n",
        "\n",
        "    #Using regex to filter out tigers\n",
        "    def get_tigers(self):\n",
        "        tigers = filter(lambda a: re.search(r\"Tiger\", a.__class__.__name__), self.animals)\n",
        "        return list(tigers)"
      ]
    },
    {
      "cell_type": "code",
      "source": [
        "#Example zoo usage:\n",
        "zoo_part2 = ZooPart2()\n",
        "\n",
        "#Adding animals and birds to the zoo\n",
        "tiger = Tiger()\n",
        "wolf = Wolf()\n",
        "eagle = Eagle()\n",
        "\n",
        "zoo_part2.add_animal(tiger)\n",
        "zoo_part2.add_animal(wolf)\n",
        "zoo_part2.add_bird(eagle)"
      ],
      "metadata": {
        "colab": {
          "base_uri": "https://localhost:8080/"
        },
        "id": "5OT0Alag6kLl",
        "outputId": "c1526cea-7b91-4631-cfb4-3149bd97581c"
      },
      "execution_count": 26,
      "outputs": [
        {
          "output_type": "stream",
          "name": "stdout",
          "text": [
            "Added Bengal Tiger to the zoo.\n",
            "Added Wolf to the zoo.\n",
            "Added Eagle to the zoo.\n"
          ]
        }
      ]
    },
    {
      "cell_type": "code",
      "source": [
        "#Try adding a duplicate tiger\n",
        "zoo_part2.add_animal(tiger)"
      ],
      "metadata": {
        "colab": {
          "base_uri": "https://localhost:8080/"
        },
        "id": "2QXuxtZk66hd",
        "outputId": "33f2c09b-368c-46b9-f7af-9cd531fd5f91"
      },
      "execution_count": 27,
      "outputs": [
        {
          "output_type": "stream",
          "name": "stdout",
          "text": [
            "Animal Bengal Tiger already added!\n"
          ]
        }
      ]
    },
    {
      "cell_type": "code",
      "source": [
        "#Get zoo summary using map and reduce\n",
        "print(zoo_part2.zoo_summary())"
      ],
      "metadata": {
        "colab": {
          "base_uri": "https://localhost:8080/"
        },
        "id": "z2QAOSbF7B4P",
        "outputId": "a29473c8-938b-4a48-bbf7-8667e5cbe90d"
      },
      "execution_count": 13,
      "outputs": [
        {
          "output_type": "stream",
          "name": "stdout",
          "text": [
            "Zoo contains: , Tiger (Tiger), Wolf (Wolf), Eagle (Eagle)\n"
          ]
        }
      ]
    },
    {
      "cell_type": "code",
      "source": [
        "#Filter and print all canines (Wolf is a canine)\n",
        "canines = zoo_part2.get_canines()\n",
        "for canine in canines:\n",
        "    print(f\"Canine in zoo: {canine.name}\")"
      ],
      "metadata": {
        "colab": {
          "base_uri": "https://localhost:8080/"
        },
        "id": "0gvnt8wq7LlI",
        "outputId": "934fdfe8-d5a0-4093-c3a6-50e36f6d08ea"
      },
      "execution_count": 28,
      "outputs": [
        {
          "output_type": "stream",
          "name": "stdout",
          "text": [
            "Canine in zoo: Wolf\n"
          ]
        }
      ]
    },
    {
      "cell_type": "code",
      "source": [
        "#Filter tigers using regex\n",
        "tigers = zoo_part2.get_tigers()\n",
        "for tiger in tigers:\n",
        "    print(f\"Tiger in zoo: {tiger.name}\")"
      ],
      "metadata": {
        "colab": {
          "base_uri": "https://localhost:8080/"
        },
        "id": "B-R_NzXw7Y-R",
        "outputId": "4a65f159-7a64-443a-bf51-55648f643743"
      },
      "execution_count": 29,
      "outputs": [
        {
          "output_type": "stream",
          "name": "stdout",
          "text": [
            "Tiger in zoo: Bengal Tiger\n"
          ]
        }
      ]
    }
  ]
}