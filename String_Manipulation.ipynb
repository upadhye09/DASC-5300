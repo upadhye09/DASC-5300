{
  "nbformat": 4,
  "nbformat_minor": 0,
  "metadata": {
    "colab": {
      "provenance": []
    },
    "kernelspec": {
      "name": "python3",
      "display_name": "Python 3"
    },
    "language_info": {
      "name": "python"
    }
  },
  "cells": [
    {
      "cell_type": "markdown",
      "source": [
        "Name: Neha Chintamani Upadhye\n",
        "Student ID: 1002232340\n",
        "Course: DASC 5300 Foundation of Computing"
      ],
      "metadata": {
        "id": "iZe_gQC-MOn7"
      }
    },
    {
      "cell_type": "markdown",
      "source": [
        "A) String /input statement /print out"
      ],
      "metadata": {
        "id": "n6T1nnBbMohp"
      }
    },
    {
      "cell_type": "code",
      "execution_count": null,
      "metadata": {
        "colab": {
          "base_uri": "https://localhost:8080/"
        },
        "id": "Qsi3M1fWIegW",
        "outputId": "e9e6ff2f-5873-4461-c21a-a4160d0a829c"
      },
      "outputs": [
        {
          "output_type": "stream",
          "name": "stdout",
          "text": [
            "Welcome to my Mini Project!\n"
          ]
        }
      ],
      "source": [
        "#Print a welcome message to the user.\n",
        "print(\"Welcome to my Mini Project!\")"
      ]
    },
    {
      "cell_type": "code",
      "source": [
        "#Take a string (message) and a letter from the user\n",
        "message = input(\"Please enter a message: \")\n",
        "letter = input(\"Please enter a letter to count: \")\n",
        "\n",
        "# Step 3: Count how many times this letter occurred\n",
        "letter_count = message.count(letter)\n",
        "print(\"The letter '{letter}' occurs {letter_count} times in the message.\")\n"
      ],
      "metadata": {
        "colab": {
          "base_uri": "https://localhost:8080/"
        },
        "id": "v-qAS6PRJOFQ",
        "outputId": "35c7d896-430d-4293-be53-ac6b99f333da"
      },
      "execution_count": null,
      "outputs": [
        {
          "output_type": "stream",
          "name": "stdout",
          "text": [
            "Please enter a message: Hello, This is Me, Neha\n",
            "Please enter a letter to count: e\n",
            "The letter 'e' occurs 3 times in the message.\n"
          ]
        }
      ]
    },
    {
      "cell_type": "code",
      "source": [
        "#calculating the % of the letter occured\n",
        "if len(message) > 0:\n",
        "  percentage = (letter_count / len(message) ) * 100\n",
        "else:\n",
        "  percentage = 0\n",
        "\n",
        "print(\"This represents {}% of the total characters in the message.\" .format(percentage))"
      ],
      "metadata": {
        "colab": {
          "base_uri": "https://localhost:8080/"
        },
        "id": "j9y2dDgcLaho",
        "outputId": "c384c2f0-be40-4718-9cce-a9899ae6fdc4"
      },
      "execution_count": null,
      "outputs": [
        {
          "output_type": "stream",
          "name": "stdout",
          "text": [
            "This represents 13.043478260869565% of the total characters in the message.\n"
          ]
        }
      ]
    },
    {
      "cell_type": "markdown",
      "source": [
        "B) Strings manipulation"
      ],
      "metadata": {
        "id": "2yWiB7kxMvKL"
      }
    },
    {
      "cell_type": "code",
      "source": [
        "poem = \"\"\"I made myself a snowball.\n",
        "As perfect as could be.\n",
        "I thought I'd keep it as a pet.\n",
        "And let it sleep with me.\n",
        "I made it some pajamas.\n",
        "And a pillow for its head.\n",
        "Then last night it ran away,\n",
        "But first it wet the bed.\"\"\""
      ],
      "metadata": {
        "id": "izJdKVHiMzTC"
      },
      "execution_count": null,
      "outputs": []
    },
    {
      "cell_type": "code",
      "source": [
        "#itCount\n",
        "it_count = poem.lower().count(\" it \")\n",
        "print(\"The word 'it' appears {} times in the poem.\" .format(it_count))\n",
        "\n",
        "#poem's length\n",
        "poem_length = len(poem)\n",
        "print(\"The total number of characters in the poem is {}.\".format(poem_length))\n",
        "\n",
        "#first occurence of \"it\"\n",
        "it_first = poem.lower().find(\" it \")\n",
        "print(\"The first occurrence of the word 'it' is at index {}.\".format(it_first))\n",
        "\n",
        "#last occurence of \"I\"\n",
        "last = poem.rfind(\"I\")\n",
        "print(\"The last occurrence of the word 'I' is at index {}.\".format(last))"
      ],
      "metadata": {
        "colab": {
          "base_uri": "https://localhost:8080/"
        },
        "id": "CJEoKyciNSHQ",
        "outputId": "2d0904bd-75cc-4578-8a89-ddae3e47005b"
      },
      "execution_count": null,
      "outputs": [
        {
          "output_type": "stream",
          "name": "stdout",
          "text": [
            "The word 'it' appears 5 times in the poem.\n",
            "The total number of characters in the poem is 213.\n",
            "The first occurrence of the word 'it' is at index 68.\n",
            "The last occurrence of the word 'I' is at index 108.\n"
          ]
        }
      ]
    }
  ]
}