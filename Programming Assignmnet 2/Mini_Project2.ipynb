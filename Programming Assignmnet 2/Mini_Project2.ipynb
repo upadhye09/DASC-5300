{
  "nbformat": 4,
  "nbformat_minor": 0,
  "metadata": {
    "colab": {
      "provenance": []
    },
    "kernelspec": {
      "name": "python3",
      "display_name": "Python 3"
    },
    "language_info": {
      "name": "python"
    }
  },
  "cells": [
    {
      "cell_type": "markdown",
      "source": [
        "**Name**: Neha Chintamani Upadhye\n",
        "**Student ID**: 1002232340\n",
        "**Course**: DASC 5300 Foundation of Computing"
      ],
      "metadata": {
        "id": "gm5-_XenBO26"
      }
    },
    {
      "cell_type": "markdown",
      "source": [
        "Part 1"
      ],
      "metadata": {
        "id": "SM3mWv6FBh9S"
      }
    },
    {
      "cell_type": "code",
      "source": [
        "#TASK 1\n",
        "\n",
        "def gift_recommender(preference, budget):\n",
        "    gift_options = {\n",
        "        'electronics': [(100, 'gaming earbuds'), (200, 'headphone'), (float('inf'), 'smart watch')],             #Using the dictionary to store the information about the gifting items\n",
        "        'clothing': [(25, 'tops'), (50, 'jackets'), (100, 'shoes'), (float('inf'), 'suits')],\n",
        "        'jewelry': [(500, 'ring'), (1000, 'necklace'), (float('inf'), 'bracelet')]\n",
        "    }\n",
        "\n",
        "    if preference in gift_options:\n",
        "        for max_budget, gift in gift_options[preference]:\n",
        "            if budget <= max_budget:\n",
        "                return gift\n",
        "\n",
        "    return \"decorative gifts!\"\n",
        "\n",
        "#TESTCASE 1\n",
        "gift_recommender('jewelry', 100.0)                                                #Expected outcome is \"Ring\""
      ],
      "metadata": {
        "colab": {
          "base_uri": "https://localhost:8080/",
          "height": 36
        },
        "id": "NI_ecOWTBnuc",
        "outputId": "b0ec4c52-52a5-435d-a45b-641ecdf9b549"
      },
      "execution_count": null,
      "outputs": [
        {
          "output_type": "execute_result",
          "data": {
            "text/plain": [
              "'ring'"
            ],
            "application/vnd.google.colaboratory.intrinsic+json": {
              "type": "string"
            }
          },
          "metadata": {},
          "execution_count": 5
        }
      ]
    },
    {
      "cell_type": "code",
      "source": [
        "#TESTCASE 2\n",
        "gift_recommender('clothing', 66.0)                                                #Expected outcome is \"Shoes\""
      ],
      "metadata": {
        "colab": {
          "base_uri": "https://localhost:8080/",
          "height": 36
        },
        "id": "kaPlDSHGIB-K",
        "outputId": "28567d1a-fc60-4c0f-92d4-aa29cb89e1ca"
      },
      "execution_count": null,
      "outputs": [
        {
          "output_type": "execute_result",
          "data": {
            "text/plain": [
              "'shoes'"
            ],
            "application/vnd.google.colaboratory.intrinsic+json": {
              "type": "string"
            }
          },
          "metadata": {},
          "execution_count": 7
        }
      ]
    },
    {
      "cell_type": "code",
      "source": [
        "#TESTCASE 3\n",
        "gift_recommender('electronics', 202.0)                                            #Expected outcome is \"Smart Watch\""
      ],
      "metadata": {
        "colab": {
          "base_uri": "https://localhost:8080/",
          "height": 36
        },
        "id": "ThLII8q6IJO_",
        "outputId": "d2f9b489-d1f9-48bf-e48b-28e863525bc1"
      },
      "execution_count": null,
      "outputs": [
        {
          "output_type": "execute_result",
          "data": {
            "text/plain": [
              "'smart watch'"
            ],
            "application/vnd.google.colaboratory.intrinsic+json": {
              "type": "string"
            }
          },
          "metadata": {},
          "execution_count": 8
        }
      ]
    },
    {
      "cell_type": "code",
      "source": [
        "#TESTCASE 4\n",
        "gift_recommender('clothing', 31.5)                                                #Expected outcome is \"Jackets\""
      ],
      "metadata": {
        "colab": {
          "base_uri": "https://localhost:8080/",
          "height": 36
        },
        "id": "MBqTNhlSmak9",
        "outputId": "41a2d203-fdeb-4d5c-ec54-117476227689"
      },
      "execution_count": null,
      "outputs": [
        {
          "output_type": "execute_result",
          "data": {
            "text/plain": [
              "'jackets'"
            ],
            "application/vnd.google.colaboratory.intrinsic+json": {
              "type": "string"
            }
          },
          "metadata": {},
          "execution_count": 9
        }
      ]
    },
    {
      "cell_type": "code",
      "source": [
        "#TASK 2\n",
        "\n",
        "def calculate_letter_grade(score):                                                #Determine the letter grade based on the score\n",
        "    if 90 < score <= 100:\n",
        "        return \"A\"\n",
        "    elif 80 < score <= 90:\n",
        "        return \"B\"\n",
        "    elif 70 < score <= 80:\n",
        "        return \"C\"\n",
        "    elif 60 <= score <= 70:\n",
        "        return \"D\"\n",
        "    else:\n",
        "        return \"F\"\n",
        "\n",
        "#TESTCASE 1\n",
        "calculate_letter_grade(95.5)                                                      #Expected Outcome: \"A\""
      ],
      "metadata": {
        "colab": {
          "base_uri": "https://localhost:8080/",
          "height": 36
        },
        "id": "TOsvda1FFyrm",
        "outputId": "2191301a-7f03-4596-f96f-edf9c5002cbb"
      },
      "execution_count": null,
      "outputs": [
        {
          "output_type": "execute_result",
          "data": {
            "text/plain": [
              "'A'"
            ],
            "application/vnd.google.colaboratory.intrinsic+json": {
              "type": "string"
            }
          },
          "metadata": {},
          "execution_count": 11
        }
      ]
    },
    {
      "cell_type": "code",
      "source": [
        "#TESTCASE 2\n",
        "calculate_letter_grade(83.2)                                                      #Expected Outcome: B"
      ],
      "metadata": {
        "colab": {
          "base_uri": "https://localhost:8080/",
          "height": 36
        },
        "id": "IDUaqOewISQ7",
        "outputId": "3fe6af3e-d76e-4e68-8219-2bf49fa8a394"
      },
      "execution_count": null,
      "outputs": [
        {
          "output_type": "execute_result",
          "data": {
            "text/plain": [
              "'B'"
            ],
            "application/vnd.google.colaboratory.intrinsic+json": {
              "type": "string"
            }
          },
          "metadata": {},
          "execution_count": 12
        }
      ]
    },
    {
      "cell_type": "code",
      "source": [
        "#TESTCASE 3\n",
        "calculate_letter_grade(0.0)                                                       #Expected Outcome: F"
      ],
      "metadata": {
        "colab": {
          "base_uri": "https://localhost:8080/",
          "height": 36
        },
        "id": "pbHQifX2nANk",
        "outputId": "9fb48f02-245e-4609-deb4-db611f9f5517"
      },
      "execution_count": null,
      "outputs": [
        {
          "output_type": "execute_result",
          "data": {
            "text/plain": [
              "'F'"
            ],
            "application/vnd.google.colaboratory.intrinsic+json": {
              "type": "string"
            }
          },
          "metadata": {},
          "execution_count": 13
        }
      ]
    },
    {
      "cell_type": "code",
      "source": [
        "#TESTCASE 4\n",
        "calculate_letter_grade(62.8)                                                      #Expected D Outcome: D"
      ],
      "metadata": {
        "colab": {
          "base_uri": "https://localhost:8080/",
          "height": 36
        },
        "id": "whK_qBCJnI20",
        "outputId": "fdf55938-110d-4eda-d537-5eaa1a225358"
      },
      "execution_count": null,
      "outputs": [
        {
          "output_type": "execute_result",
          "data": {
            "text/plain": [
              "'D'"
            ],
            "application/vnd.google.colaboratory.intrinsic+json": {
              "type": "string"
            }
          },
          "metadata": {},
          "execution_count": 14
        }
      ]
    },
    {
      "cell_type": "code",
      "source": [
        "#TASK3\n",
        "\n",
        "def is_discount_applicable(age, is_military, major, gpa):\n",
        "    if is_military:                                                               #Check if the customer is eligible for a discount\n",
        "        return True\n",
        "    if age >= 60:\n",
        "        return True\n",
        "    if major == \"CSE\" and gpa >= 3.7:\n",
        "        return True\n",
        "    return False\n",
        "\n",
        "def book_price(age, is_military, major, gpa, book_category):\n",
        "    category_prices = {                                                           #Pricing structure for different book categories\n",
        "        'science': 30.0,\n",
        "        'fiction': 30.0,\n",
        "        'novel': 20.0,\n",
        "        'horror': 20.0,\n",
        "        'mystery': 10.0,\n",
        "        'comic': 15.0\n",
        "    }\n",
        "\n",
        "    base_price = category_prices.get(book_category, 0.0)                          #Base price of the book\n",
        "\n",
        "    eligible_for_discount = is_discount_applicable(age, is_military, major, gpa)  #Check the eligiblity for a discount\n",
        "\n",
        "    if eligible_for_discount:                                                     #If yes then, applying the discount based on book category\n",
        "        if book_category in ['comic', 'fiction']:\n",
        "            base_price *= 0.8                                                     #20% discount\n",
        "        elif book_category == 'novel':\n",
        "            base_price *= 0.6                                                     #40% discount\n",
        "\n",
        "    return base_price\n",
        "\n",
        "#TESTCASE 1\n",
        "book_price(16, False, \"CSE\", 3.8, \"fiction\")                                      #Expected Outcome: 24.0"
      ],
      "metadata": {
        "colab": {
          "base_uri": "https://localhost:8080/"
        },
        "id": "urHpvAfWLBIH",
        "outputId": "2a18f720-2aa3-498a-e1c9-39d91da79c94"
      },
      "execution_count": null,
      "outputs": [
        {
          "output_type": "execute_result",
          "data": {
            "text/plain": [
              "24.0"
            ]
          },
          "metadata": {},
          "execution_count": 18
        }
      ]
    },
    {
      "cell_type": "code",
      "source": [
        "#TESTCASE 2\n",
        "book_price(37, True, \"\", 0.0, \"mystery\")                                          #Expected Outcome: 10.0\n"
      ],
      "metadata": {
        "colab": {
          "base_uri": "https://localhost:8080/"
        },
        "id": "jUgrPRMwnj6H",
        "outputId": "81e40257-7b9d-4218-d233-f432aa87fb15"
      },
      "execution_count": null,
      "outputs": [
        {
          "output_type": "execute_result",
          "data": {
            "text/plain": [
              "10.0"
            ]
          },
          "metadata": {},
          "execution_count": 16
        }
      ]
    },
    {
      "cell_type": "code",
      "source": [
        "#TESTCASE 3\n",
        "book_price(24, False, \"IST\", 4.0, \"comic\")                                        #Expected Outcome: 15.0"
      ],
      "metadata": {
        "colab": {
          "base_uri": "https://localhost:8080/"
        },
        "id": "VdFENtMwnrpV",
        "outputId": "d021d36e-4959-4067-b216-1fb3f24fb5d5"
      },
      "execution_count": null,
      "outputs": [
        {
          "output_type": "execute_result",
          "data": {
            "text/plain": [
              "15.0"
            ]
          },
          "metadata": {},
          "execution_count": 17
        }
      ]
    },
    {
      "cell_type": "markdown",
      "source": [
        "PART 2"
      ],
      "metadata": {
        "id": "7AewnJzfLq5L"
      }
    },
    {
      "cell_type": "code",
      "source": [
        "#TASK 1\n",
        "\n",
        "def empty_or_full(parking_lane, capacity):                                        #Checking if the parking is vacant or not\n",
        "    if len(parking_lane) == 0:\n",
        "        return \"empty\"\n",
        "    elif len(parking_lane) == capacity:\n",
        "        return \"full\"\n",
        "    else:\n",
        "        return \"neither\"\n",
        "\n",
        "#TESTCASE 1\n",
        "empty_or_full(['RTY-5655', 'FF 22', 'LKJ-7250'], 3)                               #Expected Outcome: \"Full\""
      ],
      "metadata": {
        "colab": {
          "base_uri": "https://localhost:8080/",
          "height": 36
        },
        "id": "v0wtOSILLs73",
        "outputId": "a54d3a61-f1c3-4137-a813-4e9b6bc7b0a8"
      },
      "execution_count": 3,
      "outputs": [
        {
          "output_type": "execute_result",
          "data": {
            "text/plain": [
              "'full'"
            ],
            "application/vnd.google.colaboratory.intrinsic+json": {
              "type": "string"
            }
          },
          "metadata": {},
          "execution_count": 3
        }
      ]
    },
    {
      "cell_type": "code",
      "source": [
        "#TESTCASE 2\n",
        "empty_or_full([], 1)                                                              #Expected Outcome: \"Empty\""
      ],
      "metadata": {
        "colab": {
          "base_uri": "https://localhost:8080/",
          "height": 36
        },
        "id": "FFzQypj05G6_",
        "outputId": "51c7e447-b666-4b8a-c73a-60b5fa8c8c97"
      },
      "execution_count": 5,
      "outputs": [
        {
          "output_type": "execute_result",
          "data": {
            "text/plain": [
              "'empty'"
            ],
            "application/vnd.google.colaboratory.intrinsic+json": {
              "type": "string"
            }
          },
          "metadata": {},
          "execution_count": 5
        }
      ]
    },
    {
      "cell_type": "code",
      "source": [
        "#TESTCASE 3\n",
        "empty_or_full(['RTY-5655', 'FF 22', 'LKJ-7250'], 10)                              #Expected Ouycome: \"Neither\""
      ],
      "metadata": {
        "colab": {
          "base_uri": "https://localhost:8080/",
          "height": 36
        },
        "id": "lDGY5fbE46i8",
        "outputId": "e1a4d9d7-d265-4282-be45-759a332b66c5"
      },
      "execution_count": 4,
      "outputs": [
        {
          "output_type": "execute_result",
          "data": {
            "text/plain": [
              "'neither'"
            ],
            "application/vnd.google.colaboratory.intrinsic+json": {
              "type": "string"
            }
          },
          "metadata": {},
          "execution_count": 4
        }
      ]
    },
    {
      "cell_type": "code",
      "source": [
        "def park_cars(parking_lane, capacity, cars_to_park):\n",
        "    available_space = capacity - len(parking_lane)                                #Calculating the available space\n",
        "\n",
        "    parking_lane.extend(cars_to_park[:available_space])                           #Adding cars_to_park up to the available space\n",
        "\n",
        "    return parking_lane\n",
        "\n",
        "#TESTCASE 1\n",
        "park_cars(['RTY-5655'], 2, ['FF 22', 'LKJ-7250'])                                 #Expected Outcome: ['RTY-5655', 'FF 22']"
      ],
      "metadata": {
        "colab": {
          "base_uri": "https://localhost:8080/"
        },
        "id": "5_IWy29oTlQx",
        "outputId": "25a2fd0d-ee19-4912-c598-abdaf1188a3f"
      },
      "execution_count": 7,
      "outputs": [
        {
          "output_type": "execute_result",
          "data": {
            "text/plain": [
              "['RTY-5655', 'FF 22']"
            ]
          },
          "metadata": {},
          "execution_count": 7
        }
      ]
    },
    {
      "cell_type": "code",
      "source": [
        "#TESTCASE 2\n",
        "park_cars(['RTY-5655'], 1, ['FF 22', 'LKJ-7250'])                                 #Expected Outcome: ['RTY-5655']"
      ],
      "metadata": {
        "colab": {
          "base_uri": "https://localhost:8080/"
        },
        "id": "Hs2lFtLG55s8",
        "outputId": "91f65dbc-4b62-4b93-b88a-540e590de060"
      },
      "execution_count": 8,
      "outputs": [
        {
          "output_type": "execute_result",
          "data": {
            "text/plain": [
              "['RTY-5655']"
            ]
          },
          "metadata": {},
          "execution_count": 8
        }
      ]
    },
    {
      "cell_type": "code",
      "source": [
        "#TESTCASE 3\n",
        "park_cars(['RTY-5655'], 2, [])                                                    #Expected Outcome: ['RTY-5655']"
      ],
      "metadata": {
        "colab": {
          "base_uri": "https://localhost:8080/"
        },
        "id": "bR6IYGEA6Jns",
        "outputId": "57d1a34a-7ad5-4fe8-e6dc-09092d704e08"
      },
      "execution_count": 9,
      "outputs": [
        {
          "output_type": "execute_result",
          "data": {
            "text/plain": [
              "['RTY-5655']"
            ]
          },
          "metadata": {},
          "execution_count": 9
        }
      ]
    },
    {
      "cell_type": "code",
      "source": [
        "def retrieve_cars(parking_lane, cars_to_retrieve):\n",
        "    return [car for car in parking_lane if car not in cars_to_retrieve]           #Removing cars_to_retrieve from parking_lane\n",
        "\n",
        "#TESTCASE 1\n",
        "retrieve_cars(['FF 22', 'LKJ-7250'], ['RTY-5655'])                                #Expected Outcome: ['FF 22', 'LKJ-7250']"
      ],
      "metadata": {
        "colab": {
          "base_uri": "https://localhost:8080/"
        },
        "id": "ABPS-6TNTsCz",
        "outputId": "745fe1c7-1884-41a6-f5a0-13edfa89cb53"
      },
      "execution_count": 10,
      "outputs": [
        {
          "output_type": "execute_result",
          "data": {
            "text/plain": [
              "['FF 22', 'LKJ-7250']"
            ]
          },
          "metadata": {},
          "execution_count": 10
        }
      ]
    },
    {
      "cell_type": "code",
      "source": [
        "#TESTCASE 2\n",
        "retrieve_cars(['RTY-5655'], ['FF 22', 'LKJ-7250'])                                #Expected Outcome: ['RTY-5655']"
      ],
      "metadata": {
        "colab": {
          "base_uri": "https://localhost:8080/"
        },
        "id": "s7kVfDdX7Bie",
        "outputId": "4d5effcd-0a80-4a93-b99d-4bd7695bc0c5"
      },
      "execution_count": 11,
      "outputs": [
        {
          "output_type": "execute_result",
          "data": {
            "text/plain": [
              "['RTY-5655']"
            ]
          },
          "metadata": {},
          "execution_count": 11
        }
      ]
    },
    {
      "cell_type": "code",
      "source": [
        "#TESTCASE 3\n",
        "retrieve_cars(['RTY-5655'], [])                                                   #Expected Outcome: ['RTY-5655']"
      ],
      "metadata": {
        "colab": {
          "base_uri": "https://localhost:8080/"
        },
        "id": "xhvbK1yv7MzP",
        "outputId": "2b36ba67-2795-4c5c-cf0b-a7b803eff76a"
      },
      "execution_count": 13,
      "outputs": [
        {
          "output_type": "execute_result",
          "data": {
            "text/plain": [
              "['RTY-5655']"
            ]
          },
          "metadata": {},
          "execution_count": 13
        }
      ]
    },
    {
      "cell_type": "code",
      "source": [
        "#TESTCASE 4\n",
        "retrieve_cars(['RTY-5655'], ['RTY-5655'])                                         #Expected Outcome: Empty List"
      ],
      "metadata": {
        "colab": {
          "base_uri": "https://localhost:8080/"
        },
        "id": "pBHAtvBw7czO",
        "outputId": "ea95bfd9-d6ba-4dc7-9b41-a20b3d795533"
      },
      "execution_count": 14,
      "outputs": [
        {
          "output_type": "execute_result",
          "data": {
            "text/plain": [
              "[]"
            ]
          },
          "metadata": {},
          "execution_count": 14
        }
      ]
    },
    {
      "cell_type": "code",
      "source": [
        "def check_cars(parking_lane, cars_to_check):\n",
        "\n",
        "    return all(car in parking_lane for car in cars_to_check)                      #Verifying if all cars in cars_to_check are present in parking_lane\n",
        "\n",
        "\n",
        "#TESTCASE 1\n",
        "check_cars(['FF 22', 'LKJ-7250'], ['FF 22'])                                      #Expected Outcome: \"True\""
      ],
      "metadata": {
        "colab": {
          "base_uri": "https://localhost:8080/"
        },
        "id": "HfqacxnUTuLw",
        "outputId": "db279d7f-a96d-479d-83cc-a35e8c94c2a5"
      },
      "execution_count": 15,
      "outputs": [
        {
          "output_type": "execute_result",
          "data": {
            "text/plain": [
              "True"
            ]
          },
          "metadata": {},
          "execution_count": 15
        }
      ]
    },
    {
      "cell_type": "code",
      "source": [
        "#TESTCASE 2\n",
        "check_cars(['RTY-5655'], ['FF 22', 'LKJ-7250'])                                   #Expected Outcome: \"False\""
      ],
      "metadata": {
        "colab": {
          "base_uri": "https://localhost:8080/"
        },
        "id": "f0VKusJ9-MUu",
        "outputId": "1907c12e-f015-4623-9982-007cb18a3cc3"
      },
      "execution_count": 16,
      "outputs": [
        {
          "output_type": "execute_result",
          "data": {
            "text/plain": [
              "False"
            ]
          },
          "metadata": {},
          "execution_count": 16
        }
      ]
    },
    {
      "cell_type": "code",
      "source": [
        "#TESTCASE 3\n",
        "check_cars(['RTY-5655'], [])                                                      #Expected Outcome: \"True\""
      ],
      "metadata": {
        "colab": {
          "base_uri": "https://localhost:8080/"
        },
        "id": "LpoLgTK--XEj",
        "outputId": "b6a0df42-3e39-4513-dcf3-cc18e6b30d66"
      },
      "execution_count": 17,
      "outputs": [
        {
          "output_type": "execute_result",
          "data": {
            "text/plain": [
              "True"
            ]
          },
          "metadata": {},
          "execution_count": 17
        }
      ]
    },
    {
      "cell_type": "code",
      "source": [
        "#TESTCASE 4\n",
        "check_cars(['FF 22', 'LKJ-7250'], ['RTY-5655'])                                   #Expected Outcome: \"False\""
      ],
      "metadata": {
        "colab": {
          "base_uri": "https://localhost:8080/"
        },
        "id": "YN3ExNVC-ez2",
        "outputId": "7cc7c867-b214-44aa-bc43-8a015ae9593b"
      },
      "execution_count": 18,
      "outputs": [
        {
          "output_type": "execute_result",
          "data": {
            "text/plain": [
              "False"
            ]
          },
          "metadata": {},
          "execution_count": 18
        }
      ]
    },
    {
      "cell_type": "code",
      "source": [
        "#TASK 2\n",
        "def swap_to_front(parking_lane, service_lane, car):\n",
        "    moves = []\n",
        "\n",
        "    if car in parking_lane:                                                       #Identifying which lane contains the car and which contains the bubble\n",
        "        lane, other_lane = parking_lane, service_lane\n",
        "        bubble_index = parking_lane.index('')\n",
        "    else:\n",
        "        lane, other_lane = service_lane, parking_lane\n",
        "        bubble_index = other_lane.index('')\n",
        "\n",
        "    car_index = lane.index(car)\n",
        "\n",
        "    def shift_bubble(target_index):                                               #Function to shift bubble\n",
        "        nonlocal bubble_index\n",
        "        while bubble_index < target_index:\n",
        "            moves.append(\"H\")                                                     #Moves the bubble right (High)\n",
        "            bubble_index += 1\n",
        "        while bubble_index > target_index:\n",
        "            moves.append(\"L\")                                                     #Moves the bubble left (Low)\n",
        "            bubble_index -= 1\n",
        "\n",
        "    while car_index > 0:                                                          #Move the bubble and bring the car to the front\n",
        "        shift_bubble(car_index - 1)\n",
        "\n",
        "        if car_index < len(other_lane):                                           #Ensuring we're not trying to access out-of-range indices\n",
        "            moves.append(\"O\")                                                     #Swapping lanes\n",
        "\n",
        "            lane[car_index], other_lane[car_index] = other_lane[car_index], lane[car_index]       #Swap the car and the bubble positions\n",
        "\n",
        "            lane, other_lane = other_lane, lane                                   #The car is in the other lane and the bubble is in the original lane\n",
        "\n",
        "        car_index -= 1                                                            #Car moves to a lower index\n",
        "\n",
        "    return moves"
      ],
      "metadata": {
        "id": "917QFFLBT2XJ"
      },
      "execution_count": 5,
      "outputs": []
    },
    {
      "cell_type": "code",
      "source": [
        "parking_lane = ['RTY-5655', 'FF 22', 'LKJ-7250', '', 'BSD-9843']\n",
        "service_lane = ['ZTR-0976', 'N00B-DRV', 'ONT123', 'ERF-0076']\n",
        "\n",
        "swap_to_front(parking_lane, service_lane, 'BSD-9843')                             #Expected Outcome is the sequence list of the actions taken"
      ],
      "metadata": {
        "id": "NfkYyBIeAhsd",
        "outputId": "90bc52f5-cd0d-45c8-c8f0-2c1e6d45bf0f",
        "colab": {
          "base_uri": "https://localhost:8080/"
        }
      },
      "execution_count": 6,
      "outputs": [
        {
          "output_type": "execute_result",
          "data": {
            "text/plain": [
              "['L', 'O', 'L', 'O', 'L', 'O']"
            ]
          },
          "metadata": {},
          "execution_count": 6
        }
      ]
    }
  ]
}