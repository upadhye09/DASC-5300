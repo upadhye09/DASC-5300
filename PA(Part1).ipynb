{
  "nbformat": 4,
  "nbformat_minor": 0,
  "metadata": {
    "colab": {
      "provenance": []
    },
    "kernelspec": {
      "name": "python3",
      "display_name": "Python 3"
    },
    "language_info": {
      "name": "python"
    }
  },
  "cells": [
    {
      "cell_type": "markdown",
      "source": [
        "**Name**: Neha Chintamani Upadhye\n",
        "**Student ID**: 1002232340"
      ],
      "metadata": {
        "id": "NHZ4uv1NEFqj"
      }
    },
    {
      "cell_type": "markdown",
      "source": [
        "PART 1"
      ],
      "metadata": {
        "id": "tmhkPayh81ut"
      }
    },
    {
      "cell_type": "code",
      "source": [
        "from prettytable import PrettyTable"
      ],
      "metadata": {
        "id": "hiW6_oSDKkOE"
      },
      "execution_count": null,
      "outputs": []
    },
    {
      "cell_type": "code",
      "source": [
        "# Parent Class for Animals\n",
        "class Animal:\n",
        "    def __init__(self, hands, legs, name):\n",
        "        self.hands = hands\n",
        "        self.legs = legs\n",
        "        self.name = name\n",
        "\n",
        "    def get_characteristics(self):\n",
        "        return [self.name, self.hands, self.legs, \"N/A\", \"N/A\"]  # Always return 5 values"
      ],
      "metadata": {
        "id": "ooyNi055KkKk"
      },
      "execution_count": 57,
      "outputs": []
    },
    {
      "cell_type": "code",
      "source": [
        "# Feline class inherits from Animal\n",
        "class Feline(Animal):\n",
        "    def __init__(self, name):\n",
        "        super().__init__(hands=0, legs=4, name=name)\n",
        "        self.family = \"Cat Family\"\n",
        "\n",
        "    def get_characteristics(self):\n",
        "        base_char = super().get_characteristics()\n",
        "        base_char[3] = self.family\n",
        "        return base_char"
      ],
      "metadata": {
        "id": "o2XcnBQGKkIN"
      },
      "execution_count": 58,
      "outputs": []
    },
    {
      "cell_type": "code",
      "source": [
        "# Tiger class inherits from Feline\n",
        "class Tiger(Feline):\n",
        "    def __init__(self):\n",
        "        super().__init__(name=\"Tiger\")\n",
        "        self.can_roar = True\n",
        "        self.is_lethal = True\n",
        "\n",
        "    def get_characteristics(self):\n",
        "        base_char = super().get_characteristics()\n",
        "        base_char[4] = f\"Roar: {self.can_roar}, Lethal: {self.is_lethal}\"\n",
        "        return base_char"
      ],
      "metadata": {
        "id": "iEHBwNqVKkFr"
      },
      "execution_count": 59,
      "outputs": []
    },
    {
      "cell_type": "code",
      "source": [
        "# Wolf class inherits from Animal\n",
        "class Wolf(Animal):\n",
        "    def __init__(self):\n",
        "        super().__init__(hands=0, legs=4, name=\"Wolf\")\n",
        "        self.hunts_in_pack = True\n",
        "        self.has_leader = True\n",
        "\n",
        "    def get_characteristics(self):\n",
        "        base_char = super().get_characteristics()\n",
        "        base_char[3] = \"Dog Family\"\n",
        "        base_char[4] = f\"Pack: {self.hunts_in_pack}, Leader: {self.has_leader}\"\n",
        "        return base_char"
      ],
      "metadata": {
        "id": "9gc7zbfQKkDA"
      },
      "execution_count": 60,
      "outputs": []
    },
    {
      "cell_type": "code",
      "source": [
        "# Bird class\n",
        "class Bird:\n",
        "    def __init__(self, legs, wings, name):\n",
        "        self.legs = legs\n",
        "        self.wings = wings\n",
        "        self.name = name\n",
        "\n",
        "    def get_characteristics(self):\n",
        "        return [self.name, self.legs, self.wings, \"N/A\", \"N/A\"]"
      ],
      "metadata": {
        "id": "ei-5FPSoKkAK"
      },
      "execution_count": 61,
      "outputs": []
    },
    {
      "cell_type": "code",
      "source": [
        "# Eagle class inherits from Bird\n",
        "class Eagle(Bird):\n",
        "    def __init__(self):\n",
        "        super().__init__(legs=2, wings=2, name=\"Eagle\")\n",
        "        self.can_fly_high = True\n",
        "        self.has_sharp_vision = True\n",
        "\n",
        "    def get_characteristics(self):\n",
        "        base_char = super().get_characteristics()\n",
        "        base_char[3] = f\"Fly High: {self.can_fly_high}\"\n",
        "        base_char[4] = f\"Sharp Vision: {self.has_sharp_vision}\"\n",
        "        return base_char"
      ],
      "metadata": {
        "id": "xyCo_n2HKj0V"
      },
      "execution_count": 62,
      "outputs": []
    },
    {
      "cell_type": "code",
      "source": [
        "# Zoo class to store animals and birds\n",
        "class Zoo:\n",
        "    def __init__(self):\n",
        "        self.animals = []  # Fixed to 2 animals\n",
        "        self.birds = []  # Fixed to 1 bird\n",
        "\n",
        "    def add_animal(self, animal):\n",
        "        if len(self.animals) < 2:\n",
        "            self.animals.append(animal)\n",
        "            print(f\"Added {animal.name} to the zoo.\")\n",
        "            self.print_table([animal.get_characteristics()], \"Animal Characteristics\")\n",
        "        else:\n",
        "            print(\"Zoo is full of animals!\")\n",
        "\n",
        "    def add_bird(self, bird):\n",
        "        if len(self.birds) < 1:\n",
        "            self.birds.append(bird)\n",
        "            print(f\"Added {bird.name} to the zoo.\")\n",
        "            self.print_table([bird.get_characteristics()], \"Bird Characteristics\")\n",
        "        else:\n",
        "            print(\"Zoo is full of birds!\")\n",
        "\n",
        "    def print_table(self, rows, title):\n",
        "        table = PrettyTable()\n",
        "        table.field_names = [\"Name\", \"Hands/Legs\", \"Legs/Wings\", \"Family\", \"Special Characteristics\"]\n",
        "        for row in rows:\n",
        "            table.add_row(row)\n",
        "        table.title = title\n",
        "        print(table)\n",
        "\n",
        "    def view_zoo(self):\n",
        "        animal_rows = [animal.get_characteristics() for animal in self.animals]\n",
        "        bird_rows = [bird.get_characteristics() for bird in self.birds]\n",
        "        if animal_rows:\n",
        "            self.print_table(animal_rows, \"Animals in Zoo\")\n",
        "        if bird_rows:\n",
        "            self.print_table(bird_rows, \"Birds in Zoo\")"
      ],
      "metadata": {
        "id": "hltSgkoMJuCN"
      },
      "execution_count": 63,
      "outputs": []
    },
    {
      "cell_type": "code",
      "source": [
        "# Create Zoo instance and add animals and birds\n",
        "zoo = Zoo()\n",
        "\n",
        "tiger = Tiger()\n",
        "wolf = Wolf()\n",
        "eagle = Eagle()"
      ],
      "metadata": {
        "id": "ht8yosOILRjM"
      },
      "execution_count": 52,
      "outputs": []
    },
    {
      "cell_type": "code",
      "source": [
        "# Add animals and birds to the zoo\n",
        "zoo.add_animal(tiger)\n",
        "zoo.add_animal(wolf)\n",
        "zoo.add_bird(eagle)"
      ],
      "metadata": {
        "colab": {
          "base_uri": "https://localhost:8080/"
        },
        "id": "GwOm2YDYLUf2",
        "outputId": "a7eb54cd-f713-41a5-9a55-9b2ff3e26e17"
      },
      "execution_count": 65,
      "outputs": [
        {
          "output_type": "stream",
          "name": "stdout",
          "text": [
            "Zoo is full of animals!\n",
            "Zoo is full of animals!\n",
            "Zoo is full of birds!\n"
          ]
        }
      ]
    },
    {
      "cell_type": "code",
      "source": [
        "# View the zoo\n",
        "zoo.view_zoo()"
      ],
      "metadata": {
        "colab": {
          "base_uri": "https://localhost:8080/"
        },
        "id": "XmJIquqZLYUi",
        "outputId": "a6d0c647-21cb-4a0b-d2ca-6095455b43b3"
      },
      "execution_count": 64,
      "outputs": [
        {
          "output_type": "stream",
          "name": "stdout",
          "text": [
            "+-------------------------------------------------------------------------+\n",
            "|                              Animals in Zoo                             |\n",
            "+-------+------------+------------+------------+--------------------------+\n",
            "|  Name | Hands/Legs | Legs/Wings |   Family   | Special Characteristics  |\n",
            "+-------+------------+------------+------------+--------------------------+\n",
            "| Tiger |     0      |     4      | Cat Family | Roar: True, Lethal: True |\n",
            "|  Wolf |     0      |     4      | Dog Family | Pack: True, Leader: True |\n",
            "+-------+------------+------------+------------+--------------------------+\n",
            "+----------------------------------------------------------------------------+\n",
            "|                                Birds in Zoo                                |\n",
            "+-------+------------+------------+----------------+-------------------------+\n",
            "|  Name | Hands/Legs | Legs/Wings |     Family     | Special Characteristics |\n",
            "+-------+------------+------------+----------------+-------------------------+\n",
            "| Eagle |     2      |     2      | Fly High: True |    Sharp Vision: True   |\n",
            "+-------+------------+------------+----------------+-------------------------+\n"
          ]
        }
      ]
    }
  ]
}